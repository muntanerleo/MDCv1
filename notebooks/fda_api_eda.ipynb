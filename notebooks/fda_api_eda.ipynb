{
 "cells": [
  {
   "cell_type": "code",
   "execution_count": 1,
   "metadata": {},
   "outputs": [],
   "source": [
    "from dotenv import load_dotenv\n",
    "from rich import print\n",
    "import pandas as pd\n",
    "import httpx\n",
    "import os\n",
    "\n",
    "load_dotenv()\n",
    "\n",
    "# Show all columns\n",
    "pd.set_option('display.max_columns', None)"
   ]
  },
  {
   "cell_type": "code",
   "execution_count": 2,
   "metadata": {},
   "outputs": [],
   "source": [
    "endpoint_effective_time = f\"https://api.fda.gov/drug/label.json?api_key={os.getenv('FDA_API_KEY')}&search=effective_time:[20110601+TO+20231231]&limit=90\"\n",
    "endpoint_finished = f\"https://api.fda.gov/drug/ndc.json?api_key={os.getenv('FDA_API_KEY')}&search=finished:true&limit=300\""
   ]
  },
  {
   "cell_type": "code",
   "execution_count": 3,
   "metadata": {},
   "outputs": [
    {
     "data": {
      "text/html": [
       "<pre style=\"white-space:pre;overflow-x:auto;line-height:normal;font-family:Menlo,'DejaVu Sans Mono',consolas,'Courier New',monospace\">Status code: <span style=\"color: #008080; text-decoration-color: #008080; font-weight: bold\">200</span>\n",
       "</pre>\n"
      ],
      "text/plain": [
       "Status code: \u001b[1;36m200\u001b[0m\n"
      ]
     },
     "metadata": {},
     "output_type": "display_data"
    },
    {
     "data": {
      "text/html": [
       "<pre style=\"white-space:pre;overflow-x:auto;line-height:normal;font-family:Menlo,'DejaVu Sans Mono',consolas,'Courier New',monospace\">Status code: <span style=\"color: #008080; text-decoration-color: #008080; font-weight: bold\">200</span>\n",
       "</pre>\n"
      ],
      "text/plain": [
       "Status code: \u001b[1;36m200\u001b[0m\n"
      ]
     },
     "metadata": {},
     "output_type": "display_data"
    },
    {
     "data": {
      "text/html": [
       "<pre style=\"white-space:pre;overflow-x:auto;line-height:normal;font-family:Menlo,'DejaVu Sans Mono',consolas,'Courier New',monospace\">Number of results: <span style=\"color: #008080; text-decoration-color: #008080; font-weight: bold\">173943</span>\n",
       "</pre>\n"
      ],
      "text/plain": [
       "Number of results: \u001b[1;36m173943\u001b[0m\n"
      ]
     },
     "metadata": {},
     "output_type": "display_data"
    },
    {
     "data": {
      "text/html": [
       "<pre style=\"white-space:pre;overflow-x:auto;line-height:normal;font-family:Menlo,'DejaVu Sans Mono',consolas,'Courier New',monospace\">Number of results: <span style=\"color: #008080; text-decoration-color: #008080; font-weight: bold\">119183</span>\n",
       "</pre>\n"
      ],
      "text/plain": [
       "Number of results: \u001b[1;36m119183\u001b[0m\n"
      ]
     },
     "metadata": {},
     "output_type": "display_data"
    }
   ],
   "source": [
    "# Use the httpx library to make a GET request to the endpoint\n",
    "response_1 = httpx.get(endpoint_effective_time)\n",
    "response_2 = httpx.get(endpoint_finished)\n",
    "\n",
    "# Print the status code of the response\n",
    "print(f\"Status code: {response_1.status_code}\")\n",
    "print(f\"Status code: {response_2.status_code}\")\n",
    "\n",
    "# Save the response body to a variable\n",
    "data_eff_time = response_1.json()\n",
    "data_finished = response_2.json()\n",
    "\n",
    "# Print the number of results\n",
    "print(f\"Number of results: {data_eff_time['meta']['results']['total']}\")\n",
    "print(f\"Number of results: {data_finished['meta']['results']['total']}\")"
   ]
  },
  {
   "cell_type": "code",
   "execution_count": null,
   "metadata": {},
   "outputs": [],
   "source": [
    "# Print the first result\n",
    "print(data_eff_time['results'][0])"
   ]
  },
  {
   "cell_type": "code",
   "execution_count": 4,
   "metadata": {},
   "outputs": [
    {
     "data": {
      "text/html": [
       "<pre style=\"white-space:pre;overflow-x:auto;line-height:normal;font-family:Menlo,'DejaVu Sans Mono',consolas,'Courier New',monospace\"><span style=\"font-weight: bold\">{</span>\n",
       "    <span style=\"color: #008000; text-decoration-color: #008000\">'product_ndc'</span>: <span style=\"color: #008000; text-decoration-color: #008000\">'75712-116'</span>,\n",
       "    <span style=\"color: #008000; text-decoration-color: #008000\">'generic_name'</span>: <span style=\"color: #008000; text-decoration-color: #008000\">'Avobenzone, Homosalate, Octisalate, Octocrylene'</span>,\n",
       "    <span style=\"color: #008000; text-decoration-color: #008000\">'labeler_name'</span>: <span style=\"color: #008000; text-decoration-color: #008000\">'DOLLAR GENERAL CORPORATION'</span>,\n",
       "    <span style=\"color: #008000; text-decoration-color: #008000\">'brand_name'</span>: <span style=\"color: #008000; text-decoration-color: #008000\">'Sunscreen'</span>,\n",
       "    <span style=\"color: #008000; text-decoration-color: #008000\">'active_ingredients'</span>: <span style=\"font-weight: bold\">[</span>\n",
       "        <span style=\"font-weight: bold\">{</span><span style=\"color: #008000; text-decoration-color: #008000\">'name'</span>: <span style=\"color: #008000; text-decoration-color: #008000\">'AVOBENZONE'</span>, <span style=\"color: #008000; text-decoration-color: #008000\">'strength'</span>: <span style=\"color: #008000; text-decoration-color: #008000\">'30 mg/g'</span><span style=\"font-weight: bold\">}</span>,\n",
       "        <span style=\"font-weight: bold\">{</span><span style=\"color: #008000; text-decoration-color: #008000\">'name'</span>: <span style=\"color: #008000; text-decoration-color: #008000\">'HOMOSALATE'</span>, <span style=\"color: #008000; text-decoration-color: #008000\">'strength'</span>: <span style=\"color: #008000; text-decoration-color: #008000\">'150 mg/g'</span><span style=\"font-weight: bold\">}</span>,\n",
       "        <span style=\"font-weight: bold\">{</span><span style=\"color: #008000; text-decoration-color: #008000\">'name'</span>: <span style=\"color: #008000; text-decoration-color: #008000\">'OCTISALATE'</span>, <span style=\"color: #008000; text-decoration-color: #008000\">'strength'</span>: <span style=\"color: #008000; text-decoration-color: #008000\">'50 mg/g'</span><span style=\"font-weight: bold\">}</span>,\n",
       "        <span style=\"font-weight: bold\">{</span><span style=\"color: #008000; text-decoration-color: #008000\">'name'</span>: <span style=\"color: #008000; text-decoration-color: #008000\">'OCTOCRYLENE'</span>, <span style=\"color: #008000; text-decoration-color: #008000\">'strength'</span>: <span style=\"color: #008000; text-decoration-color: #008000\">'100 mg/g'</span><span style=\"font-weight: bold\">}</span>\n",
       "    <span style=\"font-weight: bold\">]</span>,\n",
       "    <span style=\"color: #008000; text-decoration-color: #008000\">'finished'</span>: <span style=\"color: #00ff00; text-decoration-color: #00ff00; font-style: italic\">True</span>,\n",
       "    <span style=\"color: #008000; text-decoration-color: #008000\">'packaging'</span>: <span style=\"font-weight: bold\">[</span>\n",
       "        <span style=\"font-weight: bold\">{</span>\n",
       "            <span style=\"color: #008000; text-decoration-color: #008000\">'package_ndc'</span>: <span style=\"color: #008000; text-decoration-color: #008000\">'75712-116-14'</span>,\n",
       "            <span style=\"color: #008000; text-decoration-color: #008000\">'description'</span>: <span style=\"color: #008000; text-decoration-color: #008000\">'156 g in 1 CAN (75712-116-14)'</span>,\n",
       "            <span style=\"color: #008000; text-decoration-color: #008000\">'marketing_start_date'</span>: <span style=\"color: #008000; text-decoration-color: #008000\">'20220817'</span>,\n",
       "            <span style=\"color: #008000; text-decoration-color: #008000\">'sample'</span>: <span style=\"color: #ff0000; text-decoration-color: #ff0000; font-style: italic\">False</span>\n",
       "        <span style=\"font-weight: bold\">}</span>\n",
       "    <span style=\"font-weight: bold\">]</span>,\n",
       "    <span style=\"color: #008000; text-decoration-color: #008000\">'listing_expiration_date'</span>: <span style=\"color: #008000; text-decoration-color: #008000\">'20251231'</span>,\n",
       "    <span style=\"color: #008000; text-decoration-color: #008000\">'openfda'</span>: <span style=\"font-weight: bold\">{</span>\n",
       "        <span style=\"color: #008000; text-decoration-color: #008000\">'manufacturer_name'</span>: <span style=\"font-weight: bold\">[</span><span style=\"color: #008000; text-decoration-color: #008000\">'DOLLAR GENERAL CORPORATION'</span><span style=\"font-weight: bold\">]</span>,\n",
       "        <span style=\"color: #008000; text-decoration-color: #008000\">'spl_set_id'</span>: <span style=\"font-weight: bold\">[</span><span style=\"color: #008000; text-decoration-color: #008000\">'c89c9ad3-5b05-4ad7-b491-b02abb7a164c'</span><span style=\"font-weight: bold\">]</span>,\n",
       "        <span style=\"color: #008000; text-decoration-color: #008000\">'is_original_packager'</span>: <span style=\"font-weight: bold\">[</span><span style=\"color: #00ff00; text-decoration-color: #00ff00; font-style: italic\">True</span><span style=\"font-weight: bold\">]</span>,\n",
       "        <span style=\"color: #008000; text-decoration-color: #008000\">'unii'</span>: <span style=\"font-weight: bold\">[</span><span style=\"color: #008000; text-decoration-color: #008000\">'G63QQF2NOX'</span>, <span style=\"color: #008000; text-decoration-color: #008000\">'V06SV4M95S'</span>, <span style=\"color: #008000; text-decoration-color: #008000\">'4X49Y0596W'</span>, <span style=\"color: #008000; text-decoration-color: #008000\">'5A68WGF6WM'</span><span style=\"font-weight: bold\">]</span>\n",
       "    <span style=\"font-weight: bold\">}</span>,\n",
       "    <span style=\"color: #008000; text-decoration-color: #008000\">'marketing_category'</span>: <span style=\"color: #008000; text-decoration-color: #008000\">'OTC MONOGRAPH DRUG'</span>,\n",
       "    <span style=\"color: #008000; text-decoration-color: #008000\">'dosage_form'</span>: <span style=\"color: #008000; text-decoration-color: #008000\">'SPRAY'</span>,\n",
       "    <span style=\"color: #008000; text-decoration-color: #008000\">'spl_id'</span>: <span style=\"color: #008000; text-decoration-color: #008000\">'2280bf8c-1970-77fc-e063-6394a90a589f'</span>,\n",
       "    <span style=\"color: #008000; text-decoration-color: #008000\">'product_type'</span>: <span style=\"color: #008000; text-decoration-color: #008000\">'HUMAN OTC DRUG'</span>,\n",
       "    <span style=\"color: #008000; text-decoration-color: #008000\">'route'</span>: <span style=\"font-weight: bold\">[</span><span style=\"color: #008000; text-decoration-color: #008000\">'TOPICAL'</span><span style=\"font-weight: bold\">]</span>,\n",
       "    <span style=\"color: #008000; text-decoration-color: #008000\">'marketing_start_date'</span>: <span style=\"color: #008000; text-decoration-color: #008000\">'20220817'</span>,\n",
       "    <span style=\"color: #008000; text-decoration-color: #008000\">'product_id'</span>: <span style=\"color: #008000; text-decoration-color: #008000\">'75712-116_2280bf8c-1970-77fc-e063-6394a90a589f'</span>,\n",
       "    <span style=\"color: #008000; text-decoration-color: #008000\">'application_number'</span>: <span style=\"color: #008000; text-decoration-color: #008000\">'M020'</span>,\n",
       "    <span style=\"color: #008000; text-decoration-color: #008000\">'brand_name_base'</span>: <span style=\"color: #008000; text-decoration-color: #008000\">'Sunscreen'</span>\n",
       "<span style=\"font-weight: bold\">}</span>\n",
       "</pre>\n"
      ],
      "text/plain": [
       "\u001b[1m{\u001b[0m\n",
       "    \u001b[32m'product_ndc'\u001b[0m: \u001b[32m'75712-116'\u001b[0m,\n",
       "    \u001b[32m'generic_name'\u001b[0m: \u001b[32m'Avobenzone, Homosalate, Octisalate, Octocrylene'\u001b[0m,\n",
       "    \u001b[32m'labeler_name'\u001b[0m: \u001b[32m'DOLLAR GENERAL CORPORATION'\u001b[0m,\n",
       "    \u001b[32m'brand_name'\u001b[0m: \u001b[32m'Sunscreen'\u001b[0m,\n",
       "    \u001b[32m'active_ingredients'\u001b[0m: \u001b[1m[\u001b[0m\n",
       "        \u001b[1m{\u001b[0m\u001b[32m'name'\u001b[0m: \u001b[32m'AVOBENZONE'\u001b[0m, \u001b[32m'strength'\u001b[0m: \u001b[32m'30 mg/g'\u001b[0m\u001b[1m}\u001b[0m,\n",
       "        \u001b[1m{\u001b[0m\u001b[32m'name'\u001b[0m: \u001b[32m'HOMOSALATE'\u001b[0m, \u001b[32m'strength'\u001b[0m: \u001b[32m'150 mg/g'\u001b[0m\u001b[1m}\u001b[0m,\n",
       "        \u001b[1m{\u001b[0m\u001b[32m'name'\u001b[0m: \u001b[32m'OCTISALATE'\u001b[0m, \u001b[32m'strength'\u001b[0m: \u001b[32m'50 mg/g'\u001b[0m\u001b[1m}\u001b[0m,\n",
       "        \u001b[1m{\u001b[0m\u001b[32m'name'\u001b[0m: \u001b[32m'OCTOCRYLENE'\u001b[0m, \u001b[32m'strength'\u001b[0m: \u001b[32m'100 mg/g'\u001b[0m\u001b[1m}\u001b[0m\n",
       "    \u001b[1m]\u001b[0m,\n",
       "    \u001b[32m'finished'\u001b[0m: \u001b[3;92mTrue\u001b[0m,\n",
       "    \u001b[32m'packaging'\u001b[0m: \u001b[1m[\u001b[0m\n",
       "        \u001b[1m{\u001b[0m\n",
       "            \u001b[32m'package_ndc'\u001b[0m: \u001b[32m'75712-116-14'\u001b[0m,\n",
       "            \u001b[32m'description'\u001b[0m: \u001b[32m'156 g in 1 CAN \u001b[0m\u001b[32m(\u001b[0m\u001b[32m75712-116-14\u001b[0m\u001b[32m)\u001b[0m\u001b[32m'\u001b[0m,\n",
       "            \u001b[32m'marketing_start_date'\u001b[0m: \u001b[32m'20220817'\u001b[0m,\n",
       "            \u001b[32m'sample'\u001b[0m: \u001b[3;91mFalse\u001b[0m\n",
       "        \u001b[1m}\u001b[0m\n",
       "    \u001b[1m]\u001b[0m,\n",
       "    \u001b[32m'listing_expiration_date'\u001b[0m: \u001b[32m'20251231'\u001b[0m,\n",
       "    \u001b[32m'openfda'\u001b[0m: \u001b[1m{\u001b[0m\n",
       "        \u001b[32m'manufacturer_name'\u001b[0m: \u001b[1m[\u001b[0m\u001b[32m'DOLLAR GENERAL CORPORATION'\u001b[0m\u001b[1m]\u001b[0m,\n",
       "        \u001b[32m'spl_set_id'\u001b[0m: \u001b[1m[\u001b[0m\u001b[32m'c89c9ad3-5b05-4ad7-b491-b02abb7a164c'\u001b[0m\u001b[1m]\u001b[0m,\n",
       "        \u001b[32m'is_original_packager'\u001b[0m: \u001b[1m[\u001b[0m\u001b[3;92mTrue\u001b[0m\u001b[1m]\u001b[0m,\n",
       "        \u001b[32m'unii'\u001b[0m: \u001b[1m[\u001b[0m\u001b[32m'G63QQF2NOX'\u001b[0m, \u001b[32m'V06SV4M95S'\u001b[0m, \u001b[32m'4X49Y0596W'\u001b[0m, \u001b[32m'5A68WGF6WM'\u001b[0m\u001b[1m]\u001b[0m\n",
       "    \u001b[1m}\u001b[0m,\n",
       "    \u001b[32m'marketing_category'\u001b[0m: \u001b[32m'OTC MONOGRAPH DRUG'\u001b[0m,\n",
       "    \u001b[32m'dosage_form'\u001b[0m: \u001b[32m'SPRAY'\u001b[0m,\n",
       "    \u001b[32m'spl_id'\u001b[0m: \u001b[32m'2280bf8c-1970-77fc-e063-6394a90a589f'\u001b[0m,\n",
       "    \u001b[32m'product_type'\u001b[0m: \u001b[32m'HUMAN OTC DRUG'\u001b[0m,\n",
       "    \u001b[32m'route'\u001b[0m: \u001b[1m[\u001b[0m\u001b[32m'TOPICAL'\u001b[0m\u001b[1m]\u001b[0m,\n",
       "    \u001b[32m'marketing_start_date'\u001b[0m: \u001b[32m'20220817'\u001b[0m,\n",
       "    \u001b[32m'product_id'\u001b[0m: \u001b[32m'75712-116_2280bf8c-1970-77fc-e063-6394a90a589f'\u001b[0m,\n",
       "    \u001b[32m'application_number'\u001b[0m: \u001b[32m'M020'\u001b[0m,\n",
       "    \u001b[32m'brand_name_base'\u001b[0m: \u001b[32m'Sunscreen'\u001b[0m\n",
       "\u001b[1m}\u001b[0m\n"
      ]
     },
     "metadata": {},
     "output_type": "display_data"
    }
   ],
   "source": [
    "print(data_finished['results'][0])"
   ]
  },
  {
   "cell_type": "code",
   "execution_count": null,
   "metadata": {},
   "outputs": [],
   "source": [
    "for result in data_eff_time['results'][:10]:\n",
    "    print(result['effective_time'])"
   ]
  },
  {
   "cell_type": "code",
   "execution_count": null,
   "metadata": {},
   "outputs": [],
   "source": [
    "for result in data_finished['results'][:10]:\n",
    "    print(result['generic_name'])"
   ]
  },
  {
   "cell_type": "code",
   "execution_count": null,
   "metadata": {},
   "outputs": [],
   "source": [
    "# Converting the first result to a dataframe\n",
    "df_1 = pd.DataFrame(data_eff_time['results'])\n",
    "df_2 = pd.DataFrame(data_finished['results'])"
   ]
  },
  {
   "cell_type": "code",
   "execution_count": null,
   "metadata": {},
   "outputs": [],
   "source": [
    "# Drop the references column from df_1\n",
    "df_1.drop(columns='references', inplace=True)"
   ]
  },
  {
   "cell_type": "code",
   "execution_count": null,
   "metadata": {},
   "outputs": [],
   "source": [
    "df_1.info()"
   ]
  },
  {
   "cell_type": "code",
   "execution_count": null,
   "metadata": {},
   "outputs": [],
   "source": [
    "df_2.head()"
   ]
  },
  {
   "cell_type": "code",
   "execution_count": null,
   "metadata": {},
   "outputs": [],
   "source": [
    "df_2.info()"
   ]
  },
  {
   "cell_type": "code",
   "execution_count": null,
   "metadata": {},
   "outputs": [],
   "source": [
    "# Save the dataframes to CSV files\n",
    "df_1.to_csv('../data/raw/drug_effective_time.csv', index=False)"
   ]
  },
  {
   "cell_type": "code",
   "execution_count": null,
   "metadata": {},
   "outputs": [],
   "source": [
    "# Convert finished column from boolean to string\n",
    "df_2['finished'] = df_2['finished'].astype(str)"
   ]
  },
  {
   "cell_type": "code",
   "execution_count": null,
   "metadata": {},
   "outputs": [],
   "source": []
  }
 ],
 "metadata": {
  "kernelspec": {
   "display_name": "DDF-env",
   "language": "python",
   "name": "python3"
  },
  "language_info": {
   "codemirror_mode": {
    "name": "ipython",
    "version": 3
   },
   "file_extension": ".py",
   "mimetype": "text/x-python",
   "name": "python",
   "nbconvert_exporter": "python",
   "pygments_lexer": "ipython3",
   "version": "3.11.10"
  }
 },
 "nbformat": 4,
 "nbformat_minor": 2
}
