{
 "cells": [
  {
   "cell_type": "code",
   "execution_count": 1,
   "metadata": {},
   "outputs": [
    {
     "data": {
      "text/plain": [
       "True"
      ]
     },
     "execution_count": 1,
     "metadata": {},
     "output_type": "execute_result"
    }
   ],
   "source": [
    "from psycopg2 import OperationalError\n",
    "from dotenv import load_dotenv\n",
    "from loguru import logger\n",
    "import pandas as pd\n",
    "import psycopg2\n",
    "import os\n",
    "\n",
    "load_dotenv()"
   ]
  },
  {
   "cell_type": "code",
   "execution_count": 2,
   "metadata": {},
   "outputs": [],
   "source": [
    "def get_postgres_conn():\n",
    "    \"\"\"\n",
    "    Establishes a connection to a PostgreSQL database using credentials from environment variables.\n",
    "    \n",
    "    Returns:\n",
    "        connection (psycopg2.extensions.connection or None): A connection object to the PostgreSQL database \n",
    "        if the connection is successful, otherwise None.\n",
    "    \"\"\"\n",
    "    connection = None\n",
    "    \n",
    "    try:\n",
    "        connection = psycopg2.connect(\n",
    "            host=os.getenv(\"DB_HOST\"),\n",
    "            user=os.getenv(\"DB_USER\"),\n",
    "            password=os.getenv(\"DB_PASSWORD\"),\n",
    "            dbname=os.getenv(\"DB_NAME\")\n",
    "        )\n",
    "        logger.info(\"Connection to PostgreSQL DB successful\")\n",
    "    except OperationalError as e:\n",
    "        print(f\"The error '{e}' occurred\")\n",
    "    \n",
    "    return connection\n",
    "\n",
    "\n",
    "def upload_df_to_postgres(conn, table_df_pairs):\n",
    "    \"\"\"\n",
    "    Uploads a DataFrame to a PostgreSQL table using psycopg2.\n",
    "    \n",
    "    Args:\n",
    "    - conn: database connection object\n",
    "    - table_df_pairs: list of tuples where each tuple contains the table name and the DataFrame to upload\n",
    "    \n",
    "    Returns:\n",
    "    None\n",
    "    \"\"\"\n",
    "    \n",
    "    try:\n",
    "        for table_name, df in table_df_pairs:\n",
    "            with conn.cursor() as cursor:\n",
    "                # Convert each row of the DataFrame to a tuple and store in a list\n",
    "                values = [tuple(row) for row in df.to_numpy()]\n",
    "                \n",
    "                # Join the DataFrame column names into a single string separated by commas\n",
    "                columns = ','.join(list(df.columns))\n",
    "                \n",
    "                # Create a string of placeholders for SQL query, one for each column\n",
    "                placeholders = ','.join(['%s'] * len(df.columns))\n",
    "                \n",
    "                # Formulate the SQL query for inserting data into the specified table\n",
    "                sql_query = f\"INSERT INTO {table_name} ({columns}) VALUES ({placeholders})\"\n",
    "                \n",
    "                # Execute the SQL query with the list of values\n",
    "                cursor.executemany(sql_query, values)\n",
    "            \n",
    "            conn.commit()\n",
    "            logger.info(f\"Data uploaded to {table_name} in PostgreSQL.\")\n",
    "    except OperationalError as e:\n",
    "        logger.error(f\"Error uploading data to PostgreSQL: {e}\")\n",
    "    finally:\n",
    "        conn.close()"
   ]
  },
  {
   "cell_type": "code",
   "execution_count": 3,
   "metadata": {},
   "outputs": [
    {
     "name": "stderr",
     "output_type": "stream",
     "text": [
      "\u001b[32m2024-10-20 16:07:54.932\u001b[0m | \u001b[1mINFO    \u001b[0m | \u001b[36m__main__\u001b[0m:\u001b[36mget_postgres_conn\u001b[0m:\u001b[36m18\u001b[0m - \u001b[1mConnection to PostgreSQL DB successful\u001b[0m\n"
     ]
    }
   ],
   "source": [
    "# TODO: Run this and check if the data is loaded into the database\n",
    "\n",
    "conn = get_postgres_conn()\n",
    "\n",
    "df_1 = pd.read_csv('../data/raw/drug_effective_time.csv')\n",
    "df_2 = pd.read_csv('../data/raw/drug_ndc.csv')\n",
    "\n",
    "# Create a list of tuples with the table name and the dataframe\n",
    "table_df_pairs = [\n",
    "    ('public.drug_effective_time', df_1),\n",
    "    ('public.drug_ndc', df_2)\n",
    "]"
   ]
  },
  {
   "cell_type": "code",
   "execution_count": 4,
   "metadata": {},
   "outputs": [
    {
     "name": "stderr",
     "output_type": "stream",
     "text": [
      "\u001b[32m2024-10-20 16:07:56.191\u001b[0m | \u001b[1mINFO    \u001b[0m | \u001b[36m__main__\u001b[0m:\u001b[36mupload_df_to_postgres\u001b[0m:\u001b[36m56\u001b[0m - \u001b[1mData uploaded to public.drug_effective_time in PostgreSQL.\u001b[0m\n",
      "\u001b[32m2024-10-20 16:07:56.213\u001b[0m | \u001b[1mINFO    \u001b[0m | \u001b[36m__main__\u001b[0m:\u001b[36mupload_df_to_postgres\u001b[0m:\u001b[36m56\u001b[0m - \u001b[1mData uploaded to public.drug_ndc in PostgreSQL.\u001b[0m\n"
     ]
    }
   ],
   "source": [
    "upload_df_to_postgres(conn, table_df_pairs)"
   ]
  },
  {
   "cell_type": "code",
   "execution_count": null,
   "metadata": {},
   "outputs": [],
   "source": []
  }
 ],
 "metadata": {
  "kernelspec": {
   "display_name": "MDCv1-env",
   "language": "python",
   "name": "python3"
  },
  "language_info": {
   "codemirror_mode": {
    "name": "ipython",
    "version": 3
   },
   "file_extension": ".py",
   "mimetype": "text/x-python",
   "name": "python",
   "nbconvert_exporter": "python",
   "pygments_lexer": "ipython3",
   "version": "3.11.0"
  }
 },
 "nbformat": 4,
 "nbformat_minor": 2
}
